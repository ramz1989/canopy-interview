{
 "cells": [
  {
   "cell_type": "markdown",
   "metadata": {},
   "source": [
    "# Below program is to extract data from PDF and store it in an Excel file"
   ]
  },
  {
   "cell_type": "markdown",
   "metadata": {},
   "source": [
    "### Load necessary libraries"
   ]
  },
  {
   "cell_type": "code",
   "execution_count": 1,
   "metadata": {
    "scrolled": true
   },
   "outputs": [],
   "source": [
    "import pdftotext\n",
    "import pandas as pd\n",
    "import numpy as np\n",
    "import warnings\n",
    "warnings.filterwarnings('ignore')"
   ]
  },
  {
   "cell_type": "markdown",
   "metadata": {},
   "source": [
    "### Load PDF"
   ]
  },
  {
   "cell_type": "code",
   "execution_count": 2,
   "metadata": {},
   "outputs": [],
   "source": [
    "# Load your PDF\n",
    "with open(r\"C:\\Users\\admin\\Documents\\Canopy Interview\\Python Script\\test_input.pdf\", \"rb\") as f:\n",
    "    pdf = pdftotext.PDF(f)"
   ]
  },
  {
   "cell_type": "markdown",
   "metadata": {},
   "source": [
    "### Write PDF to a temporary text file"
   ]
  },
  {
   "cell_type": "code",
   "execution_count": 3,
   "metadata": {},
   "outputs": [],
   "source": [
    "# write to a text file\n",
    "with open(r'C:\\Users\\admin\\Documents\\Canopy Interview\\Python Script\\test_outputt.txt', 'w') as f:\n",
    "    f.write(\"\\n\".join(pdf))"
   ]
  },
  {
   "cell_type": "markdown",
   "metadata": {},
   "source": [
    "### Extract data from the temp text file and create a list"
   ]
  },
  {
   "cell_type": "code",
   "execution_count": 4,
   "metadata": {},
   "outputs": [],
   "source": [
    "# Extract data from the temp file and create a list\n",
    "with open(r'C:\\Users\\admin\\Documents\\Canopy Interview\\Python Script\\test_outputt.txt') as f:\n",
    "    lines = [line.rstrip() for line in f]"
   ]
  },
  {
   "cell_type": "markdown",
   "metadata": {},
   "source": [
    "### Remove blanks from lists and verify the length"
   ]
  },
  {
   "cell_type": "code",
   "execution_count": 5,
   "metadata": {},
   "outputs": [
    {
     "data": {
      "text/plain": [
       "33"
      ]
     },
     "execution_count": 5,
     "metadata": {},
     "output_type": "execute_result"
    }
   ],
   "source": [
    "str_list = filter(lambda item: item, lines)\n",
    "str_list = list(filter(None, str_list))\n",
    "len(str_list)"
   ]
  },
  {
   "cell_type": "markdown",
   "metadata": {},
   "source": [
    "### Cleanse the list with appropriate split. (e.g. Here I have used double space to split each words as an item)"
   ]
  },
  {
   "cell_type": "code",
   "execution_count": 6,
   "metadata": {},
   "outputs": [],
   "source": [
    "new_list = [i.split('  ') for i in str_list]\n",
    "r_list = []\n",
    "for i in range(len(new_list)):\n",
    "    r_str = list(filter(None, new_list[i]))\n",
    "    r_list.append(r_str)"
   ]
  },
  {
   "cell_type": "markdown",
   "metadata": {},
   "source": [
    "### Convert the list to a DataFrame"
   ]
  },
  {
   "cell_type": "code",
   "execution_count": 7,
   "metadata": {},
   "outputs": [],
   "source": [
    "df = pd.DataFrame(data=r_list)\n",
    "df.columns = ['Value Date','Order Date','Description','Amount']"
   ]
  },
  {
   "cell_type": "markdown",
   "metadata": {},
   "source": [
    "### Extract values with in the paranthesis and create a new column \"Debit\""
   ]
  },
  {
   "cell_type": "code",
   "execution_count": 8,
   "metadata": {},
   "outputs": [],
   "source": [
    "df[\"Debit\"] = df[\"Amount\"].str.extract(r\"\\((.*?)\\)\", expand=False)"
   ]
  },
  {
   "cell_type": "markdown",
   "metadata": {},
   "source": [
    "### Create a new column \"Currency\" "
   ]
  },
  {
   "cell_type": "code",
   "execution_count": 9,
   "metadata": {},
   "outputs": [],
   "source": [
    "df['Currency'] = pd.np.where(df['Value Date'].str.contains(\"AUD\"), \"AUD\",\n",
    "                               pd.np.where(df['Value Date'].str.contains(\"HKD\"), \"HKD\",\n",
    "                               pd.np.where(df['Value Date'].str.contains(\"USD\"), \"USD\",\"\")))\n",
    "df['Currency'] = df['Currency'].replace('', np.nan).ffill()\n",
    "df = df.replace(np.nan,'')"
   ]
  },
  {
   "cell_type": "markdown",
   "metadata": {},
   "source": [
    "### Remove values of paranthesis in Amount"
   ]
  },
  {
   "cell_type": "code",
   "execution_count": 10,
   "metadata": {},
   "outputs": [],
   "source": [
    "df['Amount'] = np.where(df['Amount'].str.contains(r'[()]'),\"\",df['Amount'])"
   ]
  },
  {
   "cell_type": "markdown",
   "metadata": {},
   "source": [
    "### Merge Description as few items has multiline entries"
   ]
  },
  {
   "cell_type": "code",
   "execution_count": 11,
   "metadata": {},
   "outputs": [],
   "source": [
    "df['Description'] = np.where(df['Value Date'].str.contains('ISIN'), df['Value Date'],df['Description'])\n",
    "search_string = 'ISIN'\n",
    "for i in range(len(df['Description'])):\n",
    "    if search_string in df['Value Date'].iloc[i]:\n",
    "        df['Description'].iloc[i-1] = ' '.join([df['Description'].iloc[i-1], df['Description'].iloc[i]])"
   ]
  },
  {
   "cell_type": "markdown",
   "metadata": {},
   "source": [
    "### Filter records which has date values in 'Value Date' Column"
   ]
  },
  {
   "cell_type": "code",
   "execution_count": 12,
   "metadata": {},
   "outputs": [],
   "source": [
    "df['Value Date'] = np.where(df['Value Date'].str.match(r'^\\d{2} [a-zA-Z]{3} \\d{4}$'),df['Value Date'],\"\")\n",
    "df['Value Date'] = df['Value Date'].replace('',np.nan)\n",
    "df = df[df['Value Date'].notna()]"
   ]
  },
  {
   "cell_type": "markdown",
   "metadata": {},
   "source": [
    "### Rename and Update Column names, Order"
   ]
  },
  {
   "cell_type": "code",
   "execution_count": 13,
   "metadata": {},
   "outputs": [],
   "source": [
    "df = df.rename(columns={\"Amount\":\"Credit\"})\n",
    "df = df[['Value Date', 'Order Date', 'Description', 'Currency', 'Debit','Credit']]"
   ]
  },
  {
   "cell_type": "markdown",
   "metadata": {},
   "source": [
    "### Change formats of Date, Credit and Debit values. Sort the records by 'Value Date'"
   ]
  },
  {
   "cell_type": "code",
   "execution_count": 14,
   "metadata": {},
   "outputs": [],
   "source": [
    "df['Value Date'] = pd.to_datetime(df['Value Date'])\n",
    "df['Order Date'] = pd.to_datetime(df['Order Date'])\n",
    "df['Value Date'] = df['Value Date'].dt.strftime('%Y-%m-%d')\n",
    "df['Order Date'] = df['Order Date'].dt.strftime('%Y-%m-%d')\n",
    "df.sort_values(by='Value Date')\n",
    "df['Debit'] = df['Debit'].str.replace(',', '')\n",
    "df['Credit'] = df['Credit'].str.replace(',', '')"
   ]
  },
  {
   "cell_type": "code",
   "execution_count": 15,
   "metadata": {},
   "outputs": [
    {
     "data": {
      "text/html": [
       "<div>\n",
       "<style scoped>\n",
       "    .dataframe tbody tr th:only-of-type {\n",
       "        vertical-align: middle;\n",
       "    }\n",
       "\n",
       "    .dataframe tbody tr th {\n",
       "        vertical-align: top;\n",
       "    }\n",
       "\n",
       "    .dataframe thead th {\n",
       "        text-align: right;\n",
       "    }\n",
       "</style>\n",
       "<table border=\"1\" class=\"dataframe\">\n",
       "  <thead>\n",
       "    <tr style=\"text-align: right;\">\n",
       "      <th></th>\n",
       "      <th>Order Date</th>\n",
       "      <th>Description</th>\n",
       "      <th>Currency</th>\n",
       "      <th>Debit</th>\n",
       "      <th>Credit</th>\n",
       "    </tr>\n",
       "    <tr>\n",
       "      <th>Value Date</th>\n",
       "      <th></th>\n",
       "      <th></th>\n",
       "      <th></th>\n",
       "      <th></th>\n",
       "      <th></th>\n",
       "    </tr>\n",
       "  </thead>\n",
       "  <tbody>\n",
       "    <tr>\n",
       "      <th>2019-03-01</th>\n",
       "      <td>2019-02-28</td>\n",
       "      <td>INTEREST RECEIVED</td>\n",
       "      <td>HKD</td>\n",
       "      <td></td>\n",
       "      <td>2.39</td>\n",
       "    </tr>\n",
       "    <tr>\n",
       "      <th>2019-03-04</th>\n",
       "      <td>2019-02-27</td>\n",
       "      <td>INTEREST FOR BNP PARIBAS 4M CALLABLE FIXED CO...</td>\n",
       "      <td>HKD</td>\n",
       "      <td></td>\n",
       "      <td>20025.00</td>\n",
       "    </tr>\n",
       "    <tr>\n",
       "      <th>2019-03-04</th>\n",
       "      <td>2019-03-04</td>\n",
       "      <td>EARLY REDEMPTION OF HKD 3,000,000.00 BNP PARI...</td>\n",
       "      <td>HKD</td>\n",
       "      <td></td>\n",
       "      <td>3000000.00</td>\n",
       "    </tr>\n",
       "    <tr>\n",
       "      <th>2019-03-05</th>\n",
       "      <td>2019-03-05</td>\n",
       "      <td>REPAY FIXED LOAN #31806-0</td>\n",
       "      <td>HKD</td>\n",
       "      <td>5443428.95</td>\n",
       "      <td></td>\n",
       "    </tr>\n",
       "    <tr>\n",
       "      <th>2019-03-05</th>\n",
       "      <td>2019-03-05</td>\n",
       "      <td>INTEREST CHARGE ON FIXED LOAN #31806-0</td>\n",
       "      <td>HKD</td>\n",
       "      <td>1834.73</td>\n",
       "      <td></td>\n",
       "    </tr>\n",
       "    <tr>\n",
       "      <th>2019-03-05</th>\n",
       "      <td>2019-03-05</td>\n",
       "      <td>DRAWDOWN FIXED LOAN #38034-0</td>\n",
       "      <td>HKD</td>\n",
       "      <td></td>\n",
       "      <td>5445263.68</td>\n",
       "    </tr>\n",
       "    <tr>\n",
       "      <th>2019-03-12</th>\n",
       "      <td>2019-03-12</td>\n",
       "      <td>REPAY FIXED LOAN #38034-0</td>\n",
       "      <td>HKD</td>\n",
       "      <td>5445263.68</td>\n",
       "      <td></td>\n",
       "    </tr>\n",
       "    <tr>\n",
       "      <th>2019-03-12</th>\n",
       "      <td>2019-03-12</td>\n",
       "      <td>INTEREST CHARGE ON FIXED LOAN #38034-0</td>\n",
       "      <td>HKD</td>\n",
       "      <td>1998.34</td>\n",
       "      <td></td>\n",
       "    </tr>\n",
       "    <tr>\n",
       "      <th>2019-03-12</th>\n",
       "      <td>2019-03-12</td>\n",
       "      <td>DRAWDOWN FIXED LOAN #43286-0</td>\n",
       "      <td>HKD</td>\n",
       "      <td></td>\n",
       "      <td>2427234.63</td>\n",
       "    </tr>\n",
       "    <tr>\n",
       "      <th>2019-03-19</th>\n",
       "      <td>2019-03-19</td>\n",
       "      <td>REPAY FIXED LOAN #43286-0</td>\n",
       "      <td>HKD</td>\n",
       "      <td>2427234.63</td>\n",
       "      <td></td>\n",
       "    </tr>\n",
       "    <tr>\n",
       "      <th>2019-03-19</th>\n",
       "      <td>2019-03-19</td>\n",
       "      <td>INTEREST CHARGE ON FIXED LOAN #43286-0</td>\n",
       "      <td>HKD</td>\n",
       "      <td>849.20</td>\n",
       "      <td></td>\n",
       "    </tr>\n",
       "    <tr>\n",
       "      <th>2019-03-19</th>\n",
       "      <td>2019-03-19</td>\n",
       "      <td>DRAWDOWN FIXED LOAN #49002-0</td>\n",
       "      <td>HKD</td>\n",
       "      <td></td>\n",
       "      <td>2428083.83</td>\n",
       "    </tr>\n",
       "    <tr>\n",
       "      <th>2019-03-22</th>\n",
       "      <td>2019-03-20</td>\n",
       "      <td>INTEREST FOR GOLDMAN SACHS INTERNATIONAL 4M C...</td>\n",
       "      <td>HKD</td>\n",
       "      <td></td>\n",
       "      <td>20025.00</td>\n",
       "    </tr>\n",
       "    <tr>\n",
       "      <th>2019-03-22</th>\n",
       "      <td>2019-03-22</td>\n",
       "      <td>EARLY REDEMPTION OF HKD 3,000,000.00 GOLDMAN ...</td>\n",
       "      <td>HKD</td>\n",
       "      <td></td>\n",
       "      <td>3000000.00</td>\n",
       "    </tr>\n",
       "    <tr>\n",
       "      <th>2019-03-26</th>\n",
       "      <td>2019-03-26</td>\n",
       "      <td>REPAY FIXED LOAN #49002-0</td>\n",
       "      <td>HKD</td>\n",
       "      <td>2428083.83</td>\n",
       "      <td></td>\n",
       "    </tr>\n",
       "    <tr>\n",
       "      <th>2019-03-26</th>\n",
       "      <td>2019-03-26</td>\n",
       "      <td>INTEREST CHARGE ON FIXED LOAN #49002-0</td>\n",
       "      <td>HKD</td>\n",
       "      <td>881.01</td>\n",
       "      <td></td>\n",
       "    </tr>\n",
       "    <tr>\n",
       "      <th>2019-03-01</th>\n",
       "      <td>2019-02-28</td>\n",
       "      <td>INTEREST RECEIVED</td>\n",
       "      <td>USD</td>\n",
       "      <td></td>\n",
       "      <td>15.50</td>\n",
       "    </tr>\n",
       "    <tr>\n",
       "      <th>2019-03-12</th>\n",
       "      <td>2019-03-12</td>\n",
       "      <td>RECEIVE DIVIDEND FROM HOLDING OF VP GREATER C...</td>\n",
       "      <td>USD</td>\n",
       "      <td></td>\n",
       "      <td>1325.50</td>\n",
       "    </tr>\n",
       "    <tr>\n",
       "      <th>2019-03-29</th>\n",
       "      <td>2019-03-29</td>\n",
       "      <td>CONSENT FEE ON CFLD (CAYMAN) INVESTMENT LTD B...</td>\n",
       "      <td>USD</td>\n",
       "      <td></td>\n",
       "      <td>400.00</td>\n",
       "    </tr>\n",
       "  </tbody>\n",
       "</table>\n",
       "</div>"
      ],
      "text/plain": [
       "            Order Date                                        Description  \\\n",
       "Value Date                                                                  \n",
       "2019-03-01  2019-02-28                                  INTEREST RECEIVED   \n",
       "2019-03-04  2019-02-27   INTEREST FOR BNP PARIBAS 4M CALLABLE FIXED CO...   \n",
       "2019-03-04  2019-03-04   EARLY REDEMPTION OF HKD 3,000,000.00 BNP PARI...   \n",
       "2019-03-05  2019-03-05                          REPAY FIXED LOAN #31806-0   \n",
       "2019-03-05  2019-03-05             INTEREST CHARGE ON FIXED LOAN #31806-0   \n",
       "2019-03-05  2019-03-05                       DRAWDOWN FIXED LOAN #38034-0   \n",
       "2019-03-12  2019-03-12                          REPAY FIXED LOAN #38034-0   \n",
       "2019-03-12  2019-03-12             INTEREST CHARGE ON FIXED LOAN #38034-0   \n",
       "2019-03-12  2019-03-12                       DRAWDOWN FIXED LOAN #43286-0   \n",
       "2019-03-19  2019-03-19                          REPAY FIXED LOAN #43286-0   \n",
       "2019-03-19  2019-03-19             INTEREST CHARGE ON FIXED LOAN #43286-0   \n",
       "2019-03-19  2019-03-19                       DRAWDOWN FIXED LOAN #49002-0   \n",
       "2019-03-22  2019-03-20   INTEREST FOR GOLDMAN SACHS INTERNATIONAL 4M C...   \n",
       "2019-03-22  2019-03-22   EARLY REDEMPTION OF HKD 3,000,000.00 GOLDMAN ...   \n",
       "2019-03-26  2019-03-26                          REPAY FIXED LOAN #49002-0   \n",
       "2019-03-26  2019-03-26             INTEREST CHARGE ON FIXED LOAN #49002-0   \n",
       "2019-03-01  2019-02-28                                  INTEREST RECEIVED   \n",
       "2019-03-12  2019-03-12   RECEIVE DIVIDEND FROM HOLDING OF VP GREATER C...   \n",
       "2019-03-29  2019-03-29   CONSENT FEE ON CFLD (CAYMAN) INVESTMENT LTD B...   \n",
       "\n",
       "           Currency       Debit       Credit  \n",
       "Value Date                                    \n",
       "2019-03-01      HKD                     2.39  \n",
       "2019-03-04      HKD                 20025.00  \n",
       "2019-03-04      HKD               3000000.00  \n",
       "2019-03-05      HKD  5443428.95               \n",
       "2019-03-05      HKD     1834.73               \n",
       "2019-03-05      HKD               5445263.68  \n",
       "2019-03-12      HKD  5445263.68               \n",
       "2019-03-12      HKD     1998.34               \n",
       "2019-03-12      HKD               2427234.63  \n",
       "2019-03-19      HKD  2427234.63               \n",
       "2019-03-19      HKD      849.20               \n",
       "2019-03-19      HKD               2428083.83  \n",
       "2019-03-22      HKD                 20025.00  \n",
       "2019-03-22      HKD               3000000.00  \n",
       "2019-03-26      HKD  2428083.83               \n",
       "2019-03-26      HKD      881.01               \n",
       "2019-03-01      USD                    15.50  \n",
       "2019-03-12      USD                  1325.50  \n",
       "2019-03-29      USD                   400.00  "
      ]
     },
     "execution_count": 15,
     "metadata": {},
     "output_type": "execute_result"
    }
   ],
   "source": [
    "df.reset_index()\n",
    "df.reset_index(drop=True)\n",
    "df.set_index(\"Value Date\", inplace = True)\n",
    "df"
   ]
  },
  {
   "cell_type": "markdown",
   "metadata": {},
   "source": [
    "### Save the dataframe to an excel file"
   ]
  },
  {
   "cell_type": "code",
   "execution_count": 16,
   "metadata": {},
   "outputs": [],
   "source": [
    "df.to_excel(\"PDF2Excel.xlsx\")"
   ]
  }
 ],
 "metadata": {
  "kernelspec": {
   "display_name": "Python 3",
   "language": "python",
   "name": "python3"
  },
  "language_info": {
   "codemirror_mode": {
    "name": "ipython",
    "version": 3
   },
   "file_extension": ".py",
   "mimetype": "text/x-python",
   "name": "python",
   "nbconvert_exporter": "python",
   "pygments_lexer": "ipython3",
   "version": "3.8.10"
  }
 },
 "nbformat": 4,
 "nbformat_minor": 4
}
